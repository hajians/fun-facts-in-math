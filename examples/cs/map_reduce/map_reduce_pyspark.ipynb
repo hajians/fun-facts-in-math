{
 "cells": [
  {
   "cell_type": "code",
   "execution_count": 1,
   "id": "7da6fd92",
   "metadata": {},
   "outputs": [],
   "source": [
    "from pyspark import SparkContext, SparkConf"
   ]
  },
  {
   "cell_type": "code",
   "execution_count": 2,
   "id": "bac0943d",
   "metadata": {},
   "outputs": [],
   "source": [
    "sc = SparkContext.getOrCreate()\n",
    "sc.stop()\n",
    "conf = SparkConf().set(\"spark.executor.cores\", \"2\").set(\"spark.executor.memory\", \"4g\")\n",
    "sc = SparkContext(conf=conf)"
   ]
  },
  {
   "cell_type": "code",
   "execution_count": 3,
   "id": "38bc0341",
   "metadata": {},
   "outputs": [
    {
     "data": {
      "text/plain": [
       "[('spark.rdd.compress', 'True'),\n",
       " ('spark.executor.memory', '4g'),\n",
       " ('spark.serializer.objectStreamReset', '100'),\n",
       " ('spark.master', 'local[*]'),\n",
       " ('spark.submit.pyFiles', ''),\n",
       " ('spark.submit.deployMode', 'client'),\n",
       " ('spark.executor.extraJavaOptions',\n",
       "  '-Dio.netty.tryReflectionSetAccessible=true'),\n",
       " ('spark.executor.cores', '2'),\n",
       " ('spark.ui.showConsoleProgress', 'true'),\n",
       " ('spark.app.name', 'pyspark-shell'),\n",
       " ('spark.driver.extraJavaOptions',\n",
       "  '-Dio.netty.tryReflectionSetAccessible=true')]"
      ]
     },
     "execution_count": 3,
     "metadata": {},
     "output_type": "execute_result"
    }
   ],
   "source": [
    "conf.getAll()"
   ]
  },
  {
   "cell_type": "markdown",
   "id": "764638fc",
   "metadata": {},
   "source": [
    "# PySpark Constants"
   ]
  },
  {
   "cell_type": "code",
   "execution_count": 4,
   "id": "7a192efa",
   "metadata": {},
   "outputs": [],
   "source": [
    "N_PARTITION = 10"
   ]
  },
  {
   "cell_type": "markdown",
   "id": "e420b37e",
   "metadata": {},
   "source": [
    "# A simple Monte-Carlo method"
   ]
  },
  {
   "cell_type": "code",
   "execution_count": 5,
   "id": "41ce5af3",
   "metadata": {},
   "outputs": [],
   "source": [
    "n_samples = 100000000\n",
    "index_arr = [(n_samples // N_PARTITION) for i in range(N_PARTITION)]"
   ]
  },
  {
   "cell_type": "code",
   "execution_count": 6,
   "id": "ee57f93e",
   "metadata": {},
   "outputs": [],
   "source": [
    "import numpy as np\n",
    "\n",
    "def sample_func(n_samples):\n",
    "    return np.random.uniform(low=-1.0, high=1.0, size=(n_samples, 2))\n",
    "\n",
    "def count_inside_circles(samples):\n",
    "    print(samples)\n",
    "    x = samples[:,0]\n",
    "    y = samples[:,1]\n",
    "    \n",
    "    inside_circles = (x**2+y**2) < 1.0\n",
    "    n_inside = inside_circles.sum()\n",
    "    return [('inside', n_inside), ('outside', samples.shape[0] - n_inside)]\n",
    "\n",
    "def sum_all_counts(n_inside_circles):\n",
    "    return n_inside_circles.sum()\n",
    "\n",
    "def compute_percentage(*args):\n",
    "    s = 0\n",
    "    \n",
    "    for result in args:\n",
    "        if result[0]=='inside':\n",
    "            n_inside = result[1]\n",
    "        s += result[1]\n",
    "    \n",
    "    return 4.0*n_inside/s"
   ]
  },
  {
   "cell_type": "code",
   "execution_count": 7,
   "id": "6b719d07",
   "metadata": {},
   "outputs": [],
   "source": [
    "samples = sc.parallelize(c=index_arr).repartition(N_PARTITION)"
   ]
  },
  {
   "cell_type": "code",
   "execution_count": 8,
   "id": "b011d90a",
   "metadata": {},
   "outputs": [
    {
     "data": {
      "text/plain": [
       "3.14152088"
      ]
     },
     "execution_count": 8,
     "metadata": {},
     "output_type": "execute_result"
    }
   ],
   "source": [
    "samples.map(sample_func).flatMap(count_inside_circles).reduceByKey(\n",
    "    lambda x, y: x+y\n",
    ").reduce(compute_percentage)"
   ]
  },
  {
   "cell_type": "markdown",
   "id": "f1f9f374",
   "metadata": {},
   "source": [
    "# Stop SparkContext"
   ]
  },
  {
   "cell_type": "code",
   "execution_count": 9,
   "id": "7a61c017",
   "metadata": {},
   "outputs": [],
   "source": [
    "sc.stop()"
   ]
  }
 ],
 "metadata": {
  "kernelspec": {
   "display_name": "Python 3",
   "language": "python",
   "name": "python3"
  },
  "language_info": {
   "codemirror_mode": {
    "name": "ipython",
    "version": 3
   },
   "file_extension": ".py",
   "mimetype": "text/x-python",
   "name": "python",
   "nbconvert_exporter": "python",
   "pygments_lexer": "ipython3",
   "version": "3.9.4"
  }
 },
 "nbformat": 4,
 "nbformat_minor": 5
}
