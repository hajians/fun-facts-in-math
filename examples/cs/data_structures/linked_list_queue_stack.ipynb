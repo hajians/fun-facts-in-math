{
 "cells": [
  {
   "cell_type": "markdown",
   "id": "3d7f1231",
   "metadata": {},
   "source": [
    "# Create a LinkedList"
   ]
  },
  {
   "cell_type": "code",
   "execution_count": 1,
   "id": "ac709abc",
   "metadata": {},
   "outputs": [],
   "source": [
    "from typing import Any\n",
    "class Node:\n",
    "    def __init__(self, value: Any):\n",
    "        self.value = value\n",
    "        self.next = None\n",
    "        \n",
    "    def append_to_tail(self, value):\n",
    "        end = Node(value)\n",
    "        n = self\n",
    "        while n is not None:\n",
    "            if n.next is None:\n",
    "                n.next = end\n",
    "                return\n",
    "            n = n.next\n",
    "            \n",
    "    @staticmethod\n",
    "    def delete_first_value(head, value):\n",
    "        if head.value == value:\n",
    "            return head.next\n",
    "        \n",
    "        n = head\n",
    "        \n",
    "        while n.next is not None:\n",
    "            if n.next.value == value:\n",
    "                n.next = n.next.next\n",
    "                return head\n",
    "            n = n.next\n",
    "            \n",
    "    def detect_loop(self):\n",
    "        if self.next is None:\n",
    "            return False\n",
    "        if self.next.next is None:\n",
    "            return False\n",
    "        \n",
    "        i = self\n",
    "        j = self.next.next\n",
    "        \n",
    "        while i is not j:\n",
    "            \n",
    "            if (i.next is None) or (j.next is None):\n",
    "                return False\n",
    "            if j.next.next is None:\n",
    "                return False\n",
    "            \n",
    "            i = i.next\n",
    "            j = j.next.next\n",
    "        \n",
    "        return i\n",
    "     \n",
    "    def __str__(self):\n",
    "        output = \"\"\n",
    "        current_node = self\n",
    "        i = 0\n",
    "        while current_node is not None:\n",
    "            \n",
    "            output += (f\"({i},{current_node.value}),\")\n",
    "            current_node = current_node.next\n",
    "        return output"
   ]
  },
  {
   "cell_type": "code",
   "execution_count": 2,
   "id": "52a519ef",
   "metadata": {},
   "outputs": [],
   "source": [
    "root = Node(10)\n",
    "root.append_to_tail('A')\n",
    "root.append_to_tail(100)\n",
    "root.append_to_tail(10)\n",
    "root.append_to_tail('B')"
   ]
  },
  {
   "cell_type": "markdown",
   "id": "e490c561",
   "metadata": {},
   "source": [
    "## Print values "
   ]
  },
  {
   "cell_type": "code",
   "execution_count": 3,
   "id": "c190c6aa",
   "metadata": {},
   "outputs": [
    {
     "name": "stdout",
     "output_type": "stream",
     "text": [
      "(0,10),(0,A),(0,100),(0,10),(0,B),\n"
     ]
    }
   ],
   "source": [
    "print(root)"
   ]
  },
  {
   "cell_type": "markdown",
   "id": "62fe3a80",
   "metadata": {},
   "source": [
    "# Delete value"
   ]
  },
  {
   "cell_type": "code",
   "execution_count": 4,
   "id": "78321c6d",
   "metadata": {},
   "outputs": [],
   "source": [
    "r1 = Node.delete_first_value(root, 10)"
   ]
  },
  {
   "cell_type": "code",
   "execution_count": 5,
   "id": "5c368f62",
   "metadata": {},
   "outputs": [
    {
     "name": "stdout",
     "output_type": "stream",
     "text": [
      "(0,A),(0,100),(0,10),(0,B),\n"
     ]
    }
   ],
   "source": [
    "print(r1)"
   ]
  },
  {
   "cell_type": "code",
   "execution_count": 6,
   "id": "f7444c0e",
   "metadata": {},
   "outputs": [],
   "source": [
    "r2 = Node.delete_first_value(r1, 10)"
   ]
  },
  {
   "cell_type": "code",
   "execution_count": 7,
   "id": "333804cb",
   "metadata": {},
   "outputs": [
    {
     "name": "stdout",
     "output_type": "stream",
     "text": [
      "(0,A),(0,100),(0,B),\n"
     ]
    }
   ],
   "source": [
    "print(r2)"
   ]
  },
  {
   "cell_type": "code",
   "execution_count": 8,
   "id": "4570271d",
   "metadata": {},
   "outputs": [],
   "source": [
    "r3 = Node.delete_first_value(r2, 'B')"
   ]
  },
  {
   "cell_type": "code",
   "execution_count": 9,
   "id": "7ade5568",
   "metadata": {},
   "outputs": [
    {
     "name": "stdout",
     "output_type": "stream",
     "text": [
      "(0,A),(0,100),\n"
     ]
    }
   ],
   "source": [
    "print(r3)"
   ]
  },
  {
   "cell_type": "markdown",
   "id": "4cfdf0e4",
   "metadata": {},
   "source": [
    "## Corrupt linked list"
   ]
  },
  {
   "cell_type": "code",
   "execution_count": 10,
   "id": "ae4d9170",
   "metadata": {},
   "outputs": [
    {
     "data": {
      "text/plain": [
       "False"
      ]
     },
     "execution_count": 10,
     "metadata": {},
     "output_type": "execute_result"
    }
   ],
   "source": [
    "root.detect_loop()"
   ]
  },
  {
   "cell_type": "code",
   "execution_count": 11,
   "id": "1018528f",
   "metadata": {},
   "outputs": [],
   "source": [
    "n2 = root.next.next\n",
    "root.next.next.next = n2"
   ]
  },
  {
   "cell_type": "code",
   "execution_count": 12,
   "id": "50673058",
   "metadata": {},
   "outputs": [],
   "source": [
    "node_loop = root.detect_loop()"
   ]
  },
  {
   "cell_type": "code",
   "execution_count": 13,
   "id": "e42cd673",
   "metadata": {},
   "outputs": [
    {
     "data": {
      "text/plain": [
       "100"
      ]
     },
     "execution_count": 13,
     "metadata": {},
     "output_type": "execute_result"
    }
   ],
   "source": [
    "node_loop.value"
   ]
  },
  {
   "cell_type": "code",
   "execution_count": 14,
   "id": "3eb5ac83",
   "metadata": {},
   "outputs": [
    {
     "data": {
      "text/plain": [
       "True"
      ]
     },
     "execution_count": 14,
     "metadata": {},
     "output_type": "execute_result"
    }
   ],
   "source": [
    "node_loop is n2"
   ]
  },
  {
   "cell_type": "markdown",
   "id": "1735aa81",
   "metadata": {},
   "source": [
    "# Implement Queue"
   ]
  },
  {
   "cell_type": "code",
   "execution_count": 15,
   "id": "a4ae82d6",
   "metadata": {},
   "outputs": [],
   "source": [
    "class Queue:\n",
    "    def __init__(self, node: Node = None):\n",
    "        \n",
    "        self.front = node\n",
    "        self.back = node\n",
    "    \n",
    "    def enqueue(self, node: Node):\n",
    "        if (self.back is None) and (self.front is None):\n",
    "            self.front = node\n",
    "            self.back = node\n",
    "            return\n",
    "\n",
    "        node.next = self.back\n",
    "        self.back = node\n",
    "        \n",
    "    def dequeue(self) -> Node:\n",
    "        if (self.front is None) and (self.back is None):\n",
    "            raise Exception('empty queue')\n",
    "        \n",
    "        n = self.back\n",
    "        \n",
    "        if n.next is None:\n",
    "            self.back = None\n",
    "            return n\n",
    "        \n",
    "        while n.next is not None:\n",
    "            n_prev = n\n",
    "            n = n.next      \n",
    "            \n",
    "        n_prev.next = None\n",
    "        return n"
   ]
  },
  {
   "cell_type": "code",
   "execution_count": 16,
   "id": "512173e7",
   "metadata": {},
   "outputs": [],
   "source": [
    "n0 = Node(10)\n",
    "n1 = Node('A')\n",
    "n2 = Node(100)"
   ]
  },
  {
   "cell_type": "code",
   "execution_count": 17,
   "id": "890a42be",
   "metadata": {},
   "outputs": [],
   "source": [
    "queue = Queue()"
   ]
  },
  {
   "cell_type": "code",
   "execution_count": 18,
   "id": "6238e3e8",
   "metadata": {},
   "outputs": [],
   "source": [
    "queue.enqueue(n0)"
   ]
  },
  {
   "cell_type": "code",
   "execution_count": 19,
   "id": "5786b10d",
   "metadata": {},
   "outputs": [
    {
     "data": {
      "text/plain": [
       "True"
      ]
     },
     "execution_count": 19,
     "metadata": {},
     "output_type": "execute_result"
    }
   ],
   "source": [
    "queue.back is queue.front"
   ]
  },
  {
   "cell_type": "code",
   "execution_count": 20,
   "id": "5af94286",
   "metadata": {},
   "outputs": [],
   "source": [
    "queue.enqueue(n1)"
   ]
  },
  {
   "cell_type": "code",
   "execution_count": 21,
   "id": "e7623bcf",
   "metadata": {},
   "outputs": [
    {
     "data": {
      "text/plain": [
       "True"
      ]
     },
     "execution_count": 21,
     "metadata": {},
     "output_type": "execute_result"
    }
   ],
   "source": [
    "queue.back is not queue.front"
   ]
  },
  {
   "cell_type": "code",
   "execution_count": 22,
   "id": "ffa20981",
   "metadata": {},
   "outputs": [
    {
     "data": {
      "text/plain": [
       "True"
      ]
     },
     "execution_count": 22,
     "metadata": {},
     "output_type": "execute_result"
    }
   ],
   "source": [
    "queue.back.next is queue.front"
   ]
  },
  {
   "cell_type": "code",
   "execution_count": 23,
   "id": "e79aabf0",
   "metadata": {},
   "outputs": [],
   "source": [
    "queue.enqueue(n2)"
   ]
  },
  {
   "cell_type": "code",
   "execution_count": 24,
   "id": "27b79e42",
   "metadata": {},
   "outputs": [
    {
     "data": {
      "text/plain": [
       "(True, True)"
      ]
     },
     "execution_count": 24,
     "metadata": {},
     "output_type": "execute_result"
    }
   ],
   "source": [
    "queue.back.next is n1, queue.back.next.next is n0"
   ]
  },
  {
   "cell_type": "markdown",
   "id": "910a54c6",
   "metadata": {},
   "source": [
    "### Dequeue"
   ]
  },
  {
   "cell_type": "code",
   "execution_count": 25,
   "id": "bf608b9e",
   "metadata": {},
   "outputs": [
    {
     "data": {
      "text/plain": [
       "True"
      ]
     },
     "execution_count": 25,
     "metadata": {},
     "output_type": "execute_result"
    }
   ],
   "source": [
    "queue.dequeue() is n0"
   ]
  },
  {
   "cell_type": "code",
   "execution_count": 26,
   "id": "497f26f4",
   "metadata": {},
   "outputs": [
    {
     "data": {
      "text/plain": [
       "True"
      ]
     },
     "execution_count": 26,
     "metadata": {},
     "output_type": "execute_result"
    }
   ],
   "source": [
    "queue.dequeue() is n1"
   ]
  },
  {
   "cell_type": "code",
   "execution_count": 27,
   "id": "b511fd86",
   "metadata": {},
   "outputs": [
    {
     "data": {
      "text/plain": [
       "True"
      ]
     },
     "execution_count": 27,
     "metadata": {},
     "output_type": "execute_result"
    }
   ],
   "source": [
    "queue.dequeue() is n2"
   ]
  },
  {
   "cell_type": "markdown",
   "id": "365142f1",
   "metadata": {},
   "source": [
    "# Stack"
   ]
  },
  {
   "cell_type": "code",
   "execution_count": 28,
   "id": "a9c6a529",
   "metadata": {},
   "outputs": [],
   "source": [
    "class Stack:\n",
    "    \n",
    "    def __init__(self, node: Node = None):\n",
    "        self.top = node\n",
    "        \n",
    "    def push(self, node: Node):\n",
    "        \n",
    "        if self.top is None:\n",
    "            self.top = node\n",
    "            return\n",
    "        \n",
    "        top = self.top\n",
    "        node.next = top\n",
    "        self.top = node\n",
    "    \n",
    "    def pop(self) -> Node:\n",
    "        top = self.top\n",
    "        self.top = top.next\n",
    "        return top"
   ]
  },
  {
   "cell_type": "code",
   "execution_count": 29,
   "id": "e2514231",
   "metadata": {},
   "outputs": [],
   "source": [
    "stack = Stack()"
   ]
  },
  {
   "cell_type": "code",
   "execution_count": 30,
   "id": "ca98317d",
   "metadata": {},
   "outputs": [],
   "source": [
    "stack.push(n0)"
   ]
  },
  {
   "cell_type": "code",
   "execution_count": 31,
   "id": "a143cb89",
   "metadata": {},
   "outputs": [
    {
     "data": {
      "text/plain": [
       "True"
      ]
     },
     "execution_count": 31,
     "metadata": {},
     "output_type": "execute_result"
    }
   ],
   "source": [
    "stack.top is n0"
   ]
  },
  {
   "cell_type": "code",
   "execution_count": 32,
   "id": "e0191a74",
   "metadata": {},
   "outputs": [],
   "source": [
    "stack.push(n1)"
   ]
  },
  {
   "cell_type": "code",
   "execution_count": 33,
   "id": "c08f7bbc",
   "metadata": {},
   "outputs": [
    {
     "data": {
      "text/plain": [
       "(True, True)"
      ]
     },
     "execution_count": 33,
     "metadata": {},
     "output_type": "execute_result"
    }
   ],
   "source": [
    "stack.top is n1, stack.top.next is n0"
   ]
  },
  {
   "cell_type": "code",
   "execution_count": 34,
   "id": "566f2e5f",
   "metadata": {},
   "outputs": [],
   "source": [
    "stack.push(n2)"
   ]
  },
  {
   "cell_type": "code",
   "execution_count": 35,
   "id": "4886236c",
   "metadata": {},
   "outputs": [
    {
     "data": {
      "text/plain": [
       "(True, True)"
      ]
     },
     "execution_count": 35,
     "metadata": {},
     "output_type": "execute_result"
    }
   ],
   "source": [
    "stack.top is n2, stack.top.next is n1"
   ]
  },
  {
   "cell_type": "code",
   "execution_count": 36,
   "id": "8095d5ac",
   "metadata": {},
   "outputs": [
    {
     "data": {
      "text/plain": [
       "True"
      ]
     },
     "execution_count": 36,
     "metadata": {},
     "output_type": "execute_result"
    }
   ],
   "source": [
    "stack.pop() is n2"
   ]
  },
  {
   "cell_type": "code",
   "execution_count": 37,
   "id": "1327fd32",
   "metadata": {},
   "outputs": [
    {
     "data": {
      "text/plain": [
       "True"
      ]
     },
     "execution_count": 37,
     "metadata": {},
     "output_type": "execute_result"
    }
   ],
   "source": [
    "stack.pop() is n1"
   ]
  },
  {
   "cell_type": "code",
   "execution_count": 38,
   "id": "c12f6fe4",
   "metadata": {},
   "outputs": [
    {
     "data": {
      "text/plain": [
       "True"
      ]
     },
     "execution_count": 38,
     "metadata": {},
     "output_type": "execute_result"
    }
   ],
   "source": [
    "stack.top is n0"
   ]
  },
  {
   "cell_type": "code",
   "execution_count": 39,
   "id": "b319afe7",
   "metadata": {},
   "outputs": [
    {
     "data": {
      "text/plain": [
       "True"
      ]
     },
     "execution_count": 39,
     "metadata": {},
     "output_type": "execute_result"
    }
   ],
   "source": [
    "stack.pop() is n0"
   ]
  }
 ],
 "metadata": {
  "kernelspec": {
   "display_name": "fun-facts-examples",
   "language": "python",
   "name": "fun-facts-examples"
  },
  "language_info": {
   "codemirror_mode": {
    "name": "ipython",
    "version": 3
   },
   "file_extension": ".py",
   "mimetype": "text/x-python",
   "name": "python",
   "nbconvert_exporter": "python",
   "pygments_lexer": "ipython3",
   "version": "3.7.10"
  }
 },
 "nbformat": 4,
 "nbformat_minor": 5
}
