{
 "cells": [
  {
   "cell_type": "markdown",
   "id": "3f521ea2",
   "metadata": {},
   "source": [
    "# breadth-first search"
   ]
  },
  {
   "cell_type": "code",
   "execution_count": 6,
   "id": "8f44727b",
   "metadata": {},
   "outputs": [],
   "source": [
    "graph = {\n",
    "  'A' : ['B','C'],\n",
    "  'B' : ['D', 'E'],\n",
    "  'C' : ['G'],\n",
    "  'D' : [],\n",
    "  'E' : ['F'],\n",
    "  'F' : [],\n",
    "  'G' : []\n",
    "}"
   ]
  },
  {
   "cell_type": "code",
   "execution_count": 9,
   "id": "7b39f480",
   "metadata": {},
   "outputs": [],
   "source": [
    "def bfs(graph, node):\n",
    "    output = []\n",
    "    visited = []\n",
    "    q = []\n",
    "    depth = 0\n",
    "    \n",
    "    q.append((node, depth))\n",
    "    visited.append(node)\n",
    "    \n",
    "    while q:\n",
    "        n, d = q.pop(0)\n",
    "        \n",
    "        output.append((n, d))\n",
    "        \n",
    "        for adj in graph[n]:\n",
    "            if adj not in visited:\n",
    "                visited.append(adj)\n",
    "                q.append((adj, d+1))\n",
    "    return output"
   ]
  },
  {
   "cell_type": "code",
   "execution_count": 14,
   "id": "893ce4bd",
   "metadata": {},
   "outputs": [],
   "source": [
    "def dfs(graph, node, visited):\n",
    "    \n",
    "    visited.append(node)\n",
    "    \n",
    "    for adj in graph[node]:\n",
    "        if adj not in visited:\n",
    "            dfs(graph, adj, visited)    "
   ]
  },
  {
   "cell_type": "code",
   "execution_count": 13,
   "id": "2b35a807",
   "metadata": {},
   "outputs": [
    {
     "data": {
      "text/plain": [
       "[('A', 0), ('B', 1), ('C', 1), ('D', 2), ('E', 2), ('G', 2), ('F', 3)]"
      ]
     },
     "execution_count": 13,
     "metadata": {},
     "output_type": "execute_result"
    }
   ],
   "source": [
    "bfs(graph=graph, node='A')"
   ]
  },
  {
   "cell_type": "code",
   "execution_count": 15,
   "id": "bd44939e",
   "metadata": {},
   "outputs": [],
   "source": [
    "visited = []\n",
    "dfs(graph, 'A', visited)"
   ]
  },
  {
   "cell_type": "code",
   "execution_count": 16,
   "id": "898083b2",
   "metadata": {},
   "outputs": [
    {
     "data": {
      "text/plain": [
       "['A', 'B', 'D', 'E', 'F', 'C', 'G']"
      ]
     },
     "execution_count": 16,
     "metadata": {},
     "output_type": "execute_result"
    }
   ],
   "source": [
    "visited"
   ]
  }
 ],
 "metadata": {
  "kernelspec": {
   "display_name": "fun-facts-examples",
   "language": "python",
   "name": "fun-facts-examples"
  },
  "language_info": {
   "codemirror_mode": {
    "name": "ipython",
    "version": 3
   },
   "file_extension": ".py",
   "mimetype": "text/x-python",
   "name": "python",
   "nbconvert_exporter": "python",
   "pygments_lexer": "ipython3",
   "version": "3.7.10"
  }
 },
 "nbformat": 4,
 "nbformat_minor": 5
}
