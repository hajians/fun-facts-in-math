{
 "cells": [
  {
   "cell_type": "markdown",
   "id": "88c6732c",
   "metadata": {},
   "source": [
    "# write a function that detects if an input string contains unique strings"
   ]
  },
  {
   "cell_type": "code",
   "execution_count": 18,
   "id": "9416432c",
   "metadata": {},
   "outputs": [],
   "source": [
    "def has_unique_char(s: str) -> bool:\n",
    "    counter = {}\n",
    "    for c in s:\n",
    "        n = counter.get(c, 0)\n",
    "        counter[c] = n+1\n",
    "\n",
    "        if counter[c] > 1:\n",
    "            return False\n",
    "    \n",
    "    return True"
   ]
  },
  {
   "cell_type": "code",
   "execution_count": 20,
   "id": "b093c0a9",
   "metadata": {},
   "outputs": [
    {
     "data": {
      "text/plain": [
       "True"
      ]
     },
     "execution_count": 20,
     "metadata": {},
     "output_type": "execute_result"
    }
   ],
   "source": [
    "has_unique_char('ali')"
   ]
  },
  {
   "cell_type": "code",
   "execution_count": 21,
   "id": "dc6b1e06",
   "metadata": {},
   "outputs": [],
   "source": [
    "def has_unique_char(s: str) -> bool:\n",
    "    for i, c in enumerate(s):\n",
    "        if c in s[i+1:]:\n",
    "            return False\n",
    "    return True"
   ]
  },
  {
   "cell_type": "code",
   "execution_count": 25,
   "id": "6623e9d4",
   "metadata": {},
   "outputs": [
    {
     "data": {
      "text/plain": [
       "True"
      ]
     },
     "execution_count": 25,
     "metadata": {},
     "output_type": "execute_result"
    }
   ],
   "source": [
    "has_unique_char('sali')"
   ]
  }
 ],
 "metadata": {
  "kernelspec": {
   "display_name": "fun-facts-examples",
   "language": "python",
   "name": "fun-facts-examples"
  },
  "language_info": {
   "codemirror_mode": {
    "name": "ipython",
    "version": 3
   },
   "file_extension": ".py",
   "mimetype": "text/x-python",
   "name": "python",
   "nbconvert_exporter": "python",
   "pygments_lexer": "ipython3",
   "version": "3.7.10"
  }
 },
 "nbformat": 4,
 "nbformat_minor": 5
}
