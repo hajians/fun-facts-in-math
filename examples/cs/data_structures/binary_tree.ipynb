{
 "cells": [
  {
   "cell_type": "code",
   "execution_count": 1,
   "id": "e15d8d3c",
   "metadata": {},
   "outputs": [],
   "source": [
    "class Node:\n",
    "    def __init__(self, value, l_node = None, r_node = None):\n",
    "        self.value = value\n",
    "        self.l_node = l_node\n",
    "        self.r_node = r_node\n",
    "        \n",
    "    def __repr__(self):\n",
    "        \n",
    "        if self.l_node is None:\n",
    "            l = None\n",
    "        else:\n",
    "            l = self.l_node.__repr__()\n",
    "        if self.r_node is None:\n",
    "            r = None\n",
    "        else:\n",
    "            r = self.r_node.__repr__()\n",
    "            \n",
    "        return f\"v: {self.value}, l: [{l}], r: [{r}]\""
   ]
  },
  {
   "cell_type": "code",
   "execution_count": 2,
   "id": "7d61a2b7",
   "metadata": {},
   "outputs": [],
   "source": [
    "class BinarySearchTree:\n",
    "    def __init__(self, root = None):\n",
    "        self.root = root\n",
    "    \n",
    "    def insert(self, node: Node, head: Node = None):\n",
    "    \n",
    "        if self.root is None:\n",
    "            self.root = node\n",
    "            return\n",
    "        \n",
    "        if head is None:\n",
    "            head = self.root\n",
    "        \n",
    "        if head.value > node.value:\n",
    "            if head.l_node is None:\n",
    "                head.l_node = node\n",
    "                return\n",
    "            self.insert(node=node, head=head.l_node)\n",
    "            \n",
    "        elif head.value < node.value:\n",
    "            if head.r_node is None:\n",
    "                head.r_node = node\n",
    "                return\n",
    "            self.insert(node=node, head=head.r_node)\n",
    "        else:\n",
    "            raise ValueError('duplicate')\n",
    "            \n",
    "    def search_iter(self, value):\n",
    "        if self.root is None:\n",
    "            return None\n",
    "        \n",
    "        head = self.root\n",
    "        \n",
    "        while head is not None:\n",
    "            if head.value == value:\n",
    "                return head\n",
    "            if head.value > value:\n",
    "                head = head.l_node\n",
    "            if head.value < value:\n",
    "                head = head.r_node\n",
    "        return None                \n",
    "    \n",
    "    def in_order(self, head = None):\n",
    "        output = []\n",
    "        \n",
    "        if head is None:\n",
    "            head = self.root\n",
    "        \n",
    "        if head.l_node is not None:\n",
    "            output += self.in_order(head=head.l_node)\n",
    "        \n",
    "        output += [head.value]\n",
    "        \n",
    "        if head.r_node is not None:\n",
    "            output += self.in_order(head=head.r_node)\n",
    "        \n",
    "        return output\n",
    "            \n",
    "    def __repr__(self):\n",
    "        output = []\n",
    "        head = self.root\n",
    "        \n",
    "        if head is None:\n",
    "            return output\n",
    "        \n",
    "        return self.root.__repr__()"
   ]
  },
  {
   "cell_type": "code",
   "execution_count": 3,
   "id": "645660fa",
   "metadata": {},
   "outputs": [],
   "source": [
    "n_0 = Node(20)\n",
    "n_1 = Node(15)\n",
    "n_2 = Node(10)\n",
    "n_3 = Node(30)\n",
    "n_4 = Node(12)"
   ]
  },
  {
   "cell_type": "code",
   "execution_count": 4,
   "id": "0287bc44",
   "metadata": {},
   "outputs": [],
   "source": [
    "tree = BinarySearchTree(root=n_0)\n",
    "tree.insert(n_1)\n",
    "tree.insert(n_2)\n",
    "tree.insert(n_3)\n",
    "tree.insert(n_4)"
   ]
  },
  {
   "cell_type": "code",
   "execution_count": 5,
   "id": "1adbd76e",
   "metadata": {},
   "outputs": [
    {
     "data": {
      "text/plain": [
       "(True, True)"
      ]
     },
     "execution_count": 5,
     "metadata": {},
     "output_type": "execute_result"
    }
   ],
   "source": [
    "tree.root.r_node is n_3, tree.root.l_node is n_1"
   ]
  },
  {
   "cell_type": "code",
   "execution_count": 6,
   "id": "03bafddb",
   "metadata": {},
   "outputs": [
    {
     "data": {
      "text/plain": [
       "v: 20, l: [v: 15, l: [v: 10, l: [None], r: [v: 12, l: [None], r: [None]]], r: [None]], r: [v: 30, l: [None], r: [None]]"
      ]
     },
     "execution_count": 6,
     "metadata": {},
     "output_type": "execute_result"
    }
   ],
   "source": [
    "tree"
   ]
  },
  {
   "cell_type": "code",
   "execution_count": 7,
   "id": "51a4a5fd",
   "metadata": {},
   "outputs": [
    {
     "data": {
      "text/plain": [
       "v: 30, l: [None], r: [None]"
      ]
     },
     "execution_count": 7,
     "metadata": {},
     "output_type": "execute_result"
    }
   ],
   "source": [
    "tree.search_iter(30)"
   ]
  },
  {
   "cell_type": "markdown",
   "id": "8d248f03",
   "metadata": {},
   "source": [
    "## Get sorted array"
   ]
  },
  {
   "cell_type": "code",
   "execution_count": 8,
   "id": "f65fbaef",
   "metadata": {},
   "outputs": [
    {
     "data": {
      "text/plain": [
       "[10, 12, 15, 20, 30]"
      ]
     },
     "execution_count": 8,
     "metadata": {},
     "output_type": "execute_result"
    }
   ],
   "source": [
    "tree.in_order()"
   ]
  }
 ],
 "metadata": {
  "kernelspec": {
   "display_name": "fun-facts-examples",
   "language": "python",
   "name": "fun-facts-examples"
  },
  "language_info": {
   "codemirror_mode": {
    "name": "ipython",
    "version": 3
   },
   "file_extension": ".py",
   "mimetype": "text/x-python",
   "name": "python",
   "nbconvert_exporter": "python",
   "pygments_lexer": "ipython3",
   "version": "3.7.10"
  }
 },
 "nbformat": 4,
 "nbformat_minor": 5
}
