{
 "cells": [
  {
   "cell_type": "markdown",
   "id": "097ea048",
   "metadata": {},
   "source": [
    "# Define a simple hash function"
   ]
  },
  {
   "cell_type": "code",
   "execution_count": 1,
   "id": "bb217bab",
   "metadata": {},
   "outputs": [],
   "source": [
    "class SimpleHash:\n",
    "    def __init__(self, length: int):\n",
    "        self.length = length\n",
    "        self.hash_table = [None] * length\n",
    "    \n",
    "    def hash_func(self, key: int) -> int:\n",
    "        return key % self.length\n",
    "    \n",
    "    def insert(self, key, val):\n",
    "        hash_index = self.hash_func(key)\n",
    "        \n",
    "        if self.hash_table[hash_index] is None:\n",
    "            self.hash_table[hash_index] = [(key, val)]\n",
    "            \n",
    "        elif isinstance(self.hash_table[hash_index], list):\n",
    "            for ix, (item_key, item_val) in enumerate(self.hash_table[hash_index]):\n",
    "                if key == item_key:\n",
    "                    self.hash_table[hash_index][ix] = (key, val)\n",
    "                    return\n",
    "            \n",
    "            self.hash_table[hash_index].append((key, val))\n",
    "        else:\n",
    "            raise TypeError\n",
    "        \n",
    "    def search_coarse(self, key):\n",
    "        hash_index = self.hash_func(key)\n",
    "        return self.hash_table[hash_index]\n",
    "    \n",
    "    def search(self, key):\n",
    "        hash_index = self.hash_func(key)\n",
    "        val = self.hash_table[hash_index]\n",
    "\n",
    "        if isinstance(val, list):\n",
    "            for (item_key, item_val) in val:\n",
    "                if key==item_key:\n",
    "                    return item_val\n",
    "        return None"
   ]
  },
  {
   "cell_type": "code",
   "execution_count": 2,
   "id": "9c39798a",
   "metadata": {},
   "outputs": [],
   "source": [
    "sh = SimpleHash(10)"
   ]
  },
  {
   "cell_type": "code",
   "execution_count": 3,
   "id": "34cc2645",
   "metadata": {},
   "outputs": [],
   "source": [
    "sh.insert(30, 'a')\n",
    "sh.insert(10, 'A')"
   ]
  },
  {
   "cell_type": "markdown",
   "id": "16c8da2c",
   "metadata": {},
   "source": [
    "## Check if chaining works"
   ]
  },
  {
   "cell_type": "code",
   "execution_count": 4,
   "id": "c02867aa",
   "metadata": {},
   "outputs": [
    {
     "data": {
      "text/plain": [
       "[(30, 'a'), (10, 'A')]"
      ]
     },
     "execution_count": 4,
     "metadata": {},
     "output_type": "execute_result"
    }
   ],
   "source": [
    "sh.search_coarse(10)"
   ]
  },
  {
   "cell_type": "code",
   "execution_count": 5,
   "id": "c0a49242",
   "metadata": {},
   "outputs": [
    {
     "data": {
      "text/plain": [
       "'A'"
      ]
     },
     "execution_count": 5,
     "metadata": {},
     "output_type": "execute_result"
    }
   ],
   "source": [
    "sh.search(10)"
   ]
  },
  {
   "cell_type": "markdown",
   "id": "6d83c7a1",
   "metadata": {},
   "source": [
    "## Check if updating works"
   ]
  },
  {
   "cell_type": "code",
   "execution_count": 6,
   "id": "3533d5a8",
   "metadata": {},
   "outputs": [],
   "source": [
    "sh.insert(30, 'b')"
   ]
  },
  {
   "cell_type": "code",
   "execution_count": 7,
   "id": "2480ef21",
   "metadata": {},
   "outputs": [
    {
     "data": {
      "text/plain": [
       "('A', 'b')"
      ]
     },
     "execution_count": 7,
     "metadata": {},
     "output_type": "execute_result"
    }
   ],
   "source": [
    "sh.search(10), sh.search(30)"
   ]
  },
  {
   "cell_type": "code",
   "execution_count": 8,
   "id": "8505137b",
   "metadata": {},
   "outputs": [],
   "source": [
    "sh.insert(20, 'c')\n",
    "sh.insert(10, 'Z')\n",
    "sh.insert(30, 'A')"
   ]
  },
  {
   "cell_type": "code",
   "execution_count": 9,
   "id": "679aaec0",
   "metadata": {},
   "outputs": [
    {
     "data": {
      "text/plain": [
       "[(30, 'A'), (10, 'Z'), (20, 'c')]"
      ]
     },
     "execution_count": 9,
     "metadata": {},
     "output_type": "execute_result"
    }
   ],
   "source": [
    "sh.search_coarse(10)"
   ]
  },
  {
   "cell_type": "markdown",
   "id": "f56a283b",
   "metadata": {},
   "source": [
    "## Check for collision"
   ]
  },
  {
   "cell_type": "code",
   "execution_count": 10,
   "id": "00143b29",
   "metadata": {},
   "outputs": [],
   "source": [
    "sh.insert(1, 'q')"
   ]
  },
  {
   "cell_type": "code",
   "execution_count": 11,
   "id": "c088ede6",
   "metadata": {},
   "outputs": [],
   "source": [
    "assert sh.search(21) is None\n",
    "assert sh.search(1) == 'q'"
   ]
  },
  {
   "cell_type": "markdown",
   "id": "b110ca80",
   "metadata": {},
   "source": [
    "# A better hash table"
   ]
  },
  {
   "cell_type": "code",
   "execution_count": 12,
   "id": "977c8549",
   "metadata": {},
   "outputs": [],
   "source": [
    "from typing import Any\n",
    "\n",
    "class BetterHash:\n",
    "    def __init__(self, length: int):\n",
    "        self.length = length\n",
    "        self.hash_table = [None] * length\n",
    "    \n",
    "    def hash_func(self, key: Any) -> int:\n",
    "        \"\"\"\n",
    "        Here we use the built-in hash function\n",
    "        \"\"\"\n",
    "        return hash(key) % self.length\n",
    "    \n",
    "    def insert(self, key, val):\n",
    "        hash_index = self.hash_func(key)\n",
    "        \n",
    "        if self.hash_table[hash_index] is None:\n",
    "            self.hash_table[hash_index] = [(key, val)]\n",
    "            \n",
    "        elif isinstance(self.hash_table[hash_index], list):\n",
    "            for ix, (item_key, item_val) in enumerate(self.hash_table[hash_index]):\n",
    "                if key == item_key:\n",
    "                    self.hash_table[hash_index][ix] = (key, val)\n",
    "                    return\n",
    "            \n",
    "            self.hash_table[hash_index].append((key, val))\n",
    "        else:\n",
    "            raise TypeError\n",
    "        \n",
    "    def search_coarse(self, key):\n",
    "        hash_index = self.hash_func(key)\n",
    "        return self.hash_table[hash_index]\n",
    "    \n",
    "    def search(self, key):\n",
    "        hash_index = self.hash_func(key)\n",
    "        val = self.hash_table[hash_index]\n",
    "\n",
    "        if isinstance(val, list):\n",
    "            for (item_key, item_val) in val:\n",
    "                if key==item_key:\n",
    "                    return item_val\n",
    "        return None"
   ]
  },
  {
   "cell_type": "code",
   "execution_count": 13,
   "id": "3c5eef33",
   "metadata": {},
   "outputs": [],
   "source": [
    "bh = BetterHash(length=256)"
   ]
  },
  {
   "cell_type": "code",
   "execution_count": 14,
   "id": "7ab34e8f",
   "metadata": {},
   "outputs": [],
   "source": [
    "bh.insert('Hello', 'World!')"
   ]
  },
  {
   "cell_type": "code",
   "execution_count": 15,
   "id": "4f434adf",
   "metadata": {},
   "outputs": [
    {
     "data": {
      "text/plain": [
       "'World!'"
      ]
     },
     "execution_count": 15,
     "metadata": {},
     "output_type": "execute_result"
    }
   ],
   "source": [
    "bh.search('Hello')"
   ]
  },
  {
   "cell_type": "code",
   "execution_count": 16,
   "id": "bdbf5d28",
   "metadata": {},
   "outputs": [],
   "source": [
    "bh.insert(10, 'A')\n",
    "bh.insert(256+10, 'B')"
   ]
  },
  {
   "cell_type": "code",
   "execution_count": 17,
   "id": "01ab29b2",
   "metadata": {},
   "outputs": [
    {
     "data": {
      "text/plain": [
       "[(10, 'A'), (266, 'B')]"
      ]
     },
     "execution_count": 17,
     "metadata": {},
     "output_type": "execute_result"
    }
   ],
   "source": [
    "bh.search_coarse(10)"
   ]
  }
 ],
 "metadata": {
  "kernelspec": {
   "display_name": "fun-facts-examples",
   "language": "python",
   "name": "fun-facts-examples"
  },
  "language_info": {
   "codemirror_mode": {
    "name": "ipython",
    "version": 3
   },
   "file_extension": ".py",
   "mimetype": "text/x-python",
   "name": "python",
   "nbconvert_exporter": "python",
   "pygments_lexer": "ipython3",
   "version": "3.7.10"
  }
 },
 "nbformat": 4,
 "nbformat_minor": 5
}
