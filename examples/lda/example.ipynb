{
 "cells": [
  {
   "cell_type": "code",
   "execution_count": 1,
   "metadata": {},
   "outputs": [],
   "source": [
    "import numpy as np\n",
    "import matplotlib.pyplot as plt\n",
    "from typing import List, Tuple\n",
    "from scipy.linalg import eigh\n",
    "from sklearn.decomposition import PCA"
   ]
  },
  {
   "cell_type": "code",
   "execution_count": 2,
   "metadata": {},
   "outputs": [],
   "source": [
    "import matplotlib\n",
    "matplotlib.use(\"pgf\")\n",
    "matplotlib.rcParams.update({\n",
    "    \"pgf.texsystem\": \"pdflatex\",\n",
    "    'font.family': 'sans',\n",
    "    'font.size': 14,\n",
    "    'text.usetex': True,\n",
    "    'pgf.rcfonts': False,\n",
    "})"
   ]
  },
  {
   "cell_type": "code",
   "execution_count": 3,
   "metadata": {},
   "outputs": [],
   "source": [
    "def generate_syn_data_two_class(n: int):   \n",
    "    np.random.seed(100)\n",
    "    \n",
    "    cov = [[5,2],[2,1]]\n",
    "    class_1 = np.random.multivariate_normal(mean=(0,0), cov=cov, size=n)\n",
    "    class_2 = np.random.multivariate_normal(mean=(0,5), cov=cov, size=n)\n",
    "    y_1 = np.ones(shape=n)\n",
    "    y_2 = np.ones(shape=n) * -1\n",
    "    return np.concatenate([class_1, class_2]), np.concatenate([y_1, y_2])\n",
    "    "
   ]
  },
  {
   "cell_type": "code",
   "execution_count": 4,
   "metadata": {},
   "outputs": [],
   "source": [
    "def plot_classes(X, y):\n",
    "    fig, ax = plt.subplots(figsize=(4,4))\n",
    "\n",
    "    class_indices = np.unique(y)\n",
    "    for i in class_indices:\n",
    "        X_i = X[y==i, :]\n",
    "        ax.plot(X_i[:,0], X_i[:,1], 'o', label=f\"class ${i}$\")\n",
    "        ax.legend()\n",
    "    \n",
    "    ax.grid(True, which='both')\n",
    "    ax.set_xlabel('$x_1$')\n",
    "    ax.set_ylabel('$x_2$')\n",
    "    return fig, ax"
   ]
  },
  {
   "cell_type": "code",
   "execution_count": 5,
   "metadata": {},
   "outputs": [],
   "source": [
    "def generate_class_matrices(X: np.ndarray, y: np.ndarray) -> List[np.ndarray]:\n",
    "    class_indices = np.unique(y)\n",
    "    X_partition = []\n",
    "    for i in class_indices:\n",
    "        X_partition.append(X[y==i, :])\n",
    "    return X_partition\n",
    "\n",
    "def compute_partition_center(X_partition: List[np.ndarray]) -> List[np.ndarray]:\n",
    "    c = []\n",
    "    for X_i in X_partition:\n",
    "        c.append(np.mean(X_i, axis=0))\n",
    "    return c\n",
    "\n",
    "def compute_within_class_spread(X: np.ndarray, y: np.ndarray) -> np.ndarray:\n",
    "    X_partition = generate_class_matrices(X, y)\n",
    "    c_partition = compute_partition_center(X_partition)\n",
    "    X_centered_partition = []\n",
    "    \n",
    "    for i, X_i in enumerate(X_partition):\n",
    "        c_i = c_partition[i]\n",
    "        X_centered_partition.append(X_i - c_i)\n",
    "    X_w_T = np.concatenate(X_centered_partition)\n",
    "    return X_w_T.T\n",
    "\n",
    "def compute_inter_class_spread(X: np.ndarray, y: np.ndarray) -> np.ndarray:\n",
    "    X_partition = generate_class_matrices(X, y)\n",
    "    c_partition = compute_partition_center(X_partition)\n",
    "    c = X.mean(axis=0)\n",
    "    centered_centroids = []\n",
    "    for c_i in c_partition:\n",
    "        centered_centroids.append((c_i - c).reshape(-1,1))\n",
    "    X_b = np.concatenate(centered_centroids, axis=1)\n",
    "    return X_b\n",
    "\n",
    "def compute_spread_matrices(X: np.ndarray, y: np.ndarray) -> Tuple[np.ndarray]:\n",
    "    X_w = compute_within_class_spread(X, y)\n",
    "    X_b = compute_inter_class_spread(X, y)\n",
    "    \n",
    "    return np.matmul(X_w, X_w.T), np.matmul(X_b, X_b.T)"
   ]
  },
  {
   "cell_type": "code",
   "execution_count": 6,
   "metadata": {},
   "outputs": [],
   "source": [
    "N = 1000\n",
    "X, y = generate_syn_data_two_class(N)\n",
    "fig_data, ax_data = plot_classes(X, y)"
   ]
  },
  {
   "cell_type": "code",
   "execution_count": 7,
   "metadata": {},
   "outputs": [],
   "source": [
    "S_w, S_b = compute_spread_matrices(X, y)"
   ]
  },
  {
   "cell_type": "code",
   "execution_count": 8,
   "metadata": {},
   "outputs": [
    {
     "data": {
      "text/plain": [
       "(array([[10547.49369415,  4188.95224528],\n",
       "        [ 4188.95224528,  2076.31910121]]),\n",
       " array([[ 7.70160902e-05, -3.11989155e-02],\n",
       "        [-3.11989155e-02,  1.26385581e+01]]))"
      ]
     },
     "execution_count": 8,
     "metadata": {},
     "output_type": "execute_result"
    }
   ],
   "source": [
    "S_w, S_b"
   ]
  },
  {
   "cell_type": "code",
   "execution_count": 9,
   "metadata": {},
   "outputs": [],
   "source": [
    "l, v = eigh(a=S_b, b=S_w)"
   ]
  },
  {
   "cell_type": "code",
   "execution_count": 10,
   "metadata": {},
   "outputs": [],
   "source": [
    "X_projected = np.matmul(v[:,1], X.T)"
   ]
  },
  {
   "cell_type": "code",
   "execution_count": 11,
   "metadata": {},
   "outputs": [],
   "source": [
    "def plot_projected(X_projected, y):\n",
    "    fig, ax = plt.subplots(figsize=(4,4))\n",
    "    class_indices = np.unique(y)\n",
    "    for i in class_indices:\n",
    "        ax.hist(X_projected[y==i], bins=20, label=f\"class {i}\", alpha=0.75)\n",
    "    ax.set_xlabel(\"$q^T X$\")\n",
    "    ax.set_ylabel(\"freq.\")\n",
    "    ax.legend()\n",
    "    return fig, ax"
   ]
  },
  {
   "cell_type": "code",
   "execution_count": 12,
   "metadata": {},
   "outputs": [],
   "source": [
    "# Plot the subspace\n",
    "qu = ax_data.quiver([0], [2], [40*v[0,1]], [40*v[1,1]], angles='xy', scale_units='xy', scale=1, zorder=3)"
   ]
  },
  {
   "cell_type": "code",
   "execution_count": 13,
   "metadata": {},
   "outputs": [
    {
     "data": {
      "image/png": "[encoded data removed]",
      "text/plain": [
       "<Figure size 288x288 with 1 Axes>"
      ]
     },
     "execution_count": 13,
     "metadata": {},
     "output_type": "execute_result"
    }
   ],
   "source": [
    "fig_data"
   ]
  },
  {
   "cell_type": "code",
   "execution_count": 14,
   "metadata": {},
   "outputs": [],
   "source": [
    "fig_data.tight_layout()\n",
    "fig_data.savefig('synthetic_data.pgf')"
   ]
  },
  {
   "cell_type": "markdown",
   "metadata": {},
   "source": [
    "# Plot projection"
   ]
  },
  {
   "cell_type": "code",
   "execution_count": 15,
   "metadata": {},
   "outputs": [],
   "source": [
    "fig, _ = plot_projected(X_projected, y)"
   ]
  },
  {
   "cell_type": "code",
   "execution_count": 16,
   "metadata": {},
   "outputs": [],
   "source": [
    "fig.tight_layout()\n",
    "fig.savefig('lda_projection.pgf')"
   ]
  },
  {
   "cell_type": "code",
   "execution_count": 17,
   "metadata": {},
   "outputs": [
    {
     "data": {
      "image/png": "[encoded data removed]",
      "text/plain": [
       "<Figure size 288x288 with 1 Axes>"
      ]
     },
     "execution_count": 17,
     "metadata": {},
     "output_type": "execute_result"
    }
   ],
   "source": [
    "fig"
   ]
  },
  {
   "cell_type": "markdown",
   "metadata": {},
   "source": [
    "# Applying PCA"
   ]
  },
  {
   "cell_type": "code",
   "execution_count": 18,
   "metadata": {},
   "outputs": [
    {
     "data": {
      "text/plain": [
       "PCA(n_components=1)"
      ]
     },
     "execution_count": 18,
     "metadata": {},
     "output_type": "execute_result"
    }
   ],
   "source": [
    "pca = PCA(n_components=1)\n",
    "pca.fit(X)"
   ]
  },
  {
   "cell_type": "code",
   "execution_count": 19,
   "metadata": {},
   "outputs": [],
   "source": [
    "x_projected_pca = pca.transform(X)"
   ]
  },
  {
   "cell_type": "code",
   "execution_count": 20,
   "metadata": {},
   "outputs": [],
   "source": [
    "fig_pca, _ = plot_projected(x_projected_pca, y)"
   ]
  },
  {
   "cell_type": "code",
   "execution_count": 21,
   "metadata": {},
   "outputs": [
    {
     "data": {
      "image/png": "[encoded data removed]",
      "text/plain": [
       "<Figure size 288x288 with 1 Axes>"
      ]
     },
     "execution_count": 21,
     "metadata": {},
     "output_type": "execute_result"
    }
   ],
   "source": [
    "fig_pca"
   ]
  }
 ],
 "metadata": {
  "kernelspec": {
   "display_name": "fun-facts-examples",
   "language": "python",
   "name": "fun-facts-examples"
  },
  "language_info": {
   "codemirror_mode": {
    "name": "ipython",
    "version": 3
   },
   "file_extension": ".py",
   "mimetype": "text/x-python",
   "name": "python",
   "nbconvert_exporter": "python",
   "pygments_lexer": "ipython3",
   "version": "3.7.10"
  }
 },
 "nbformat": 4,
 "nbformat_minor": 4
}
