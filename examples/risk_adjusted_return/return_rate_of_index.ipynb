{
 "cells": [
  {
   "cell_type": "markdown",
   "id": "d40fa0c0-5a28-4aec-a532-088f1e5ac226",
   "metadata": {},
   "source": [
    "# Introduction\n",
    "\n",
    "We know that exchange traded funds (ETFs) based on indices like S&P500 have high return rate in the last few years (e.g., before 2024). However such performances of ETFs are coupled with volatility. On the other hands there are other assets the have lower risks; for example paying off a high-interest rate loan can be seen as an investment with a fixed interest rate into the future and this has zero risk. \n",
    "\n",
    "In order to compare these two strategies, we will formulate performance of ETFs such that its risk is close to zero. We will take S&P500 index for this analysis. \n",
    "\n",
    "# Definitions\n",
    "Let us define the price of an asset (e.g., our ETF) at $i$-th year by $X_i$ for $i=0,\\dots, N$. Here $N$ is the maximum number of years that we hold into the share. Let us denote the yearly return of this asset by $\\{R_i\\}_{i=1}^{N}$ and defined by\n",
    "$$\n",
    "R_i = \\frac{X_i - X_{i-1}}{X_{i-1}} \\geq -1, \\quad \\forall i = 1, \\dots, N.\n",
    "$$\n",
    "# Modelling\n",
    "The average return rate after $N$ years is\n",
    "$$\n",
    "\\mathcal{R} := \\frac1N\\frac{X_N - X_0}{X_0} = \\frac1N \\Big[ \\prod_{i=1}^{N} (1+R_i) - 1\\Big].\n",
    "$$\n",
    "A first order approximation of $\\mathcal{R}$ is\n",
    "$$\n",
    "\\mathcal{R} = \\frac1N \\sum_{i=1}^{N} R_i + O(R_i^2),\n",
    "$$\n",
    "and it is more convinient to work with the *average of anual \n",
    "return rate* (first order approximation), i.e., $\\bar{R}_N = \\frac1N \\sum_{i=1}^{N} R_i$, for the analysis. \n",
    "\n",
    "We assume that each random variable $\\{R_i\\}_{i=1}^{N}$ is i.i.d. and is distributed according to a PDF denoted by $R$. We will use the PDF of the anual return of S&P500 as $R$.\n",
    "\n",
    "# Problem Statement\n",
    "Find the maximum positive average return rate (denoted by $r$) such that its probability of occurance is at least $\\tau$, \n",
    "i.e., given $0<\\tau<1$ and $N \\in \\mathbb{N}$ find \n",
    "$$\n",
    "\\max_{r > 0} r, \\quad \\text{s.t.} \\quad \\tau < \\mathbb{P}(r < \\bar{R}_N).\n",
    "$$\n",
    "If we choose $\\tau \\approx 1$ and there exists a positive $r$ such that the inequality $\\tau < \\mathbb{P}(r < \\bar{R}_N)$ is satisfied then we can claim that the asset has return-rate at **least** $r$ with zero risk. Note that $\\mathbb{P}(r < \\bar{R}_N) = 1 - \\text{CDF}_{\\bar{R}}(r)$ and therefore the above condition reduces to: Given $0<\\tau<1$ and $N \\in \\mathbb{N}$ find $r>0$ such that\n",
    "$$\n",
    "\\text{CDF}_{\\bar{R}}(r) < 1 - \\tau.\n",
    "$$\n",
    "## Distribution of $\\bar{R}_N$\n",
    "Since $\\bar{R}_N$ is a sample mean estimator we can obtain its CDF and PDF if we impose some assumptions on $\\{R_i\\}_{i=1}^{N}$. Since $\\{R_i\\}_{i=1}^{N}$ are i.i.d., we can just impose condition on $R$.\n",
    "### Normal assumption of $R$\n",
    "If $R$ is normally distributed with mean $\\mu$ and standard deviation $\\sigma^2$ then $\\bar{R}_N \\sim N(\\mu, \\frac{\\sigma^2}{N})$."
   ]
  },
  {
   "cell_type": "markdown",
   "id": "13bccbd1-a739-4617-915c-e672b4ab63e5",
   "metadata": {},
   "source": [
    "# Imports"
   ]
  },
  {
   "cell_type": "code",
   "execution_count": 1,
   "id": "1a36abff-43a1-406b-b747-7ab994356445",
   "metadata": {},
   "outputs": [],
   "source": [
    "import pandas as pd\n",
    "import numpy as np\n",
    "from scipy.stats import norm\n",
    "import matplotlib.pyplot as plt"
   ]
  },
  {
   "cell_type": "markdown",
   "id": "d6ba13a6-c68c-4c55-8d27-f1400cf739ce",
   "metadata": {},
   "source": [
    "# Load data"
   ]
  },
  {
   "cell_type": "code",
   "execution_count": 2,
   "id": "2ddce031-d32e-43cb-9f8c-797d0acaa668",
   "metadata": {},
   "outputs": [],
   "source": [
    "df_return = (\n",
    "    pd.read_csv(\"sp500_return.csv\", header=None, names=[\"year\", \"annual_return_rate\"])\n",
    "    .set_index(\"year\")\n",
    ")"
   ]
  },
  {
   "cell_type": "markdown",
   "id": "b9430e6d-14a6-4d4d-b24c-3c1c90c1d821",
   "metadata": {},
   "source": [
    "# Analysis"
   ]
  },
  {
   "cell_type": "code",
   "execution_count": 3,
   "id": "2c86391f-bebb-40e5-be0b-c9ba1108ef67",
   "metadata": {},
   "outputs": [
    {
     "data": {
      "text/plain": [
       "array([[<Axes: title={'center': 'annual_return_rate'}>]], dtype=object)"
      ]
     },
     "execution_count": 3,
     "metadata": {},
     "output_type": "execute_result"
    },
    {
     "data": {
      "image/png": "[encoded data removed]",
      "text/plain": [
       "<Figure size 640x480 with 1 Axes>"
      ]
     },
     "metadata": {},
     "output_type": "display_data"
    }
   ],
   "source": [
    "df_return.hist(bins=20, density=True)"
   ]
  },
  {
   "cell_type": "code",
   "execution_count": 4,
   "id": "0e291da2-2e81-4501-9bd0-ae663305a85d",
   "metadata": {},
   "outputs": [],
   "source": [
    "mean, std = df_return.agg([\"mean\", \"std\"])[\"annual_return_rate\"].tolist()"
   ]
  },
  {
   "cell_type": "code",
   "execution_count": 5,
   "id": "03395738-6a92-424b-91e2-071abcedfd71",
   "metadata": {},
   "outputs": [
    {
     "data": {
      "text/plain": [
       "(12.159489795918367, 19.723112998077823)"
      ]
     },
     "execution_count": 5,
     "metadata": {},
     "output_type": "execute_result"
    }
   ],
   "source": [
    "mean, std"
   ]
  },
  {
   "cell_type": "code",
   "execution_count": 6,
   "id": "c6a422e0-2a47-4e36-9d22-51f72690adf8",
   "metadata": {},
   "outputs": [],
   "source": [
    "def risk_adjusted_norm(tau, n, mu, sigma):\n",
    "    scale = sigma / np.sqrt(n)\n",
    "    return norm.ppf(1-tau, loc=mu, scale=scale)"
   ]
  },
  {
   "cell_type": "code",
   "execution_count": 13,
   "id": "3c348eab-b5b8-4194-aa1c-41eb4905e70d",
   "metadata": {},
   "outputs": [],
   "source": [
    "Tau = 0.9 # Probability\n",
    "N_min = 5 # Min Years holding to asset\n",
    "N_max = 50 # Max Years holding to asset"
   ]
  },
  {
   "cell_type": "code",
   "execution_count": 16,
   "id": "b9fcf268-b898-4867-8bf2-d5627858778f",
   "metadata": {},
   "outputs": [
    {
     "data": {
      "text/html": [
       "<div>\n",
       "<style scoped>\n",
       "    .dataframe tbody tr th:only-of-type {\n",
       "        vertical-align: middle;\n",
       "    }\n",
       "\n",
       "    .dataframe tbody tr th {\n",
       "        vertical-align: top;\n",
       "    }\n",
       "\n",
       "    .dataframe thead th {\n",
       "        text-align: right;\n",
       "    }\n",
       "</style>\n",
       "<table border=\"1\" class=\"dataframe\">\n",
       "  <thead>\n",
       "    <tr style=\"text-align: right;\">\n",
       "      <th></th>\n",
       "      <th>risk_adj_return</th>\n",
       "    </tr>\n",
       "    <tr>\n",
       "      <th>N</th>\n",
       "      <th></th>\n",
       "    </tr>\n",
       "  </thead>\n",
       "  <tbody>\n",
       "    <tr>\n",
       "      <th>5</th>\n",
       "      <td>0.855636</td>\n",
       "    </tr>\n",
       "    <tr>\n",
       "      <th>10</th>\n",
       "      <td>4.166458</td>\n",
       "    </tr>\n",
       "    <tr>\n",
       "      <th>15</th>\n",
       "      <td>5.633207</td>\n",
       "    </tr>\n",
       "    <tr>\n",
       "      <th>20</th>\n",
       "      <td>6.507563</td>\n",
       "    </tr>\n",
       "    <tr>\n",
       "      <th>25</th>\n",
       "      <td>7.104253</td>\n",
       "    </tr>\n",
       "    <tr>\n",
       "      <th>30</th>\n",
       "      <td>7.544711</td>\n",
       "    </tr>\n",
       "    <tr>\n",
       "      <th>35</th>\n",
       "      <td>7.887035</td>\n",
       "    </tr>\n",
       "    <tr>\n",
       "      <th>40</th>\n",
       "      <td>8.162974</td>\n",
       "    </tr>\n",
       "    <tr>\n",
       "      <th>45</th>\n",
       "      <td>8.391538</td>\n",
       "    </tr>\n",
       "  </tbody>\n",
       "</table>\n",
       "</div>"
      ],
      "text/plain": [
       "    risk_adj_return\n",
       "N                  \n",
       "5          0.855636\n",
       "10         4.166458\n",
       "15         5.633207\n",
       "20         6.507563\n",
       "25         7.104253\n",
       "30         7.544711\n",
       "35         7.887035\n",
       "40         8.162974\n",
       "45         8.391538"
      ]
     },
     "execution_count": 16,
     "metadata": {},
     "output_type": "execute_result"
    }
   ],
   "source": [
    "df_risk_adj_return = pd.DataFrame.from_dict(\n",
    "    data={n: risk_adjusted_norm(Tau, n, mean, std) for n in range(N_min, N_max, 5)},\n",
    "    orient=\"index\",\n",
    "    columns=[\"risk_adj_return\"],\n",
    ")\n",
    "\n",
    "df_risk_adj_return.index.name = \"N\"\n",
    "\n",
    "df_risk_adj_return"
   ]
  },
  {
   "cell_type": "code",
   "execution_count": 15,
   "id": "fd01b1a5-a47e-4e1f-906e-27829f64ec18",
   "metadata": {},
   "outputs": [
    {
     "data": {
      "text/plain": [
       "<matplotlib.collections.LineCollection at 0x7fd48cc309d0>"
      ]
     },
     "execution_count": 15,
     "metadata": {},
     "output_type": "execute_result"
    },
    {
     "data": {
      "image/png": "[encoded data removed]",
      "text/plain": [
       "<Figure size 640x480 with 1 Axes>"
      ]
     },
     "metadata": {},
     "output_type": "display_data"
    }
   ],
   "source": [
    "fig, ax = plt.subplots()\n",
    "df_risk_adj_return.plot(style=\"-*\", ax=ax)\n",
    "ax.hlines(y=0, xmin=N_min, xmax=N_max, color=\"red\", linestyles=\"--\")\n",
    "ax.hlines(y=mean, xmin=N_min, xmax=N_max, color=\"red\", linestyles=\"--\")"
   ]
  }
 ],
 "metadata": {
  "kernelspec": {
   "display_name": "fun_facts",
   "language": "python",
   "name": "fun_facts"
  },
  "language_info": {
   "codemirror_mode": {
    "name": "ipython",
    "version": 3
   },
   "file_extension": ".py",
   "mimetype": "text/x-python",
   "name": "python",
   "nbconvert_exporter": "python",
   "pygments_lexer": "ipython3",
   "version": "3.10.13"
  }
 },
 "nbformat": 4,
 "nbformat_minor": 5
}
