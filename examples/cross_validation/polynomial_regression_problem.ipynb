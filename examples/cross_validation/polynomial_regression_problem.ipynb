{
 "cells": [
  {
   "cell_type": "markdown",
   "id": "7cf901d6",
   "metadata": {},
   "source": [
    "# cross-validation for a polynomial regression problem"
   ]
  },
  {
   "cell_type": "code",
   "execution_count": 1,
   "id": "e875c5c5",
   "metadata": {},
   "outputs": [],
   "source": [
    "import numpy as np\n",
    "from sklearn.decomposition import PCA\n",
    "from sklearn.metrics import mean_squared_error\n",
    "from sklearn.linear_model import LinearRegression, Ridge\n",
    "from sklearn.pipeline import Pipeline\n",
    "from sklearn.preprocessing import PolynomialFeatures\n",
    "from sklearn.model_selection import KFold, train_test_split, GridSearchCV\n",
    "import matplotlib.pyplot as plt"
   ]
  },
  {
   "cell_type": "code",
   "execution_count": 2,
   "id": "bdb21ff9",
   "metadata": {},
   "outputs": [],
   "source": [
    "np.random.seed(123)"
   ]
  },
  {
   "cell_type": "code",
   "execution_count": 3,
   "id": "69542450",
   "metadata": {},
   "outputs": [],
   "source": [
    "def generate_syn_data_non_linear(n: int):\n",
    "    a, b = -5.0, 5.0\n",
    "    step = (b-a)/n\n",
    "    x = np.arange(a, b, step)\n",
    "    \n",
    "    eps = np.random.normal(size=n, scale=8.0)\n",
    "    \n",
    "    coeff = np.array([10, 2, -2, 1])\n",
    "    poly = np.array([coeff[i]*x**i for i in range(len(coeff))]).sum(axis=0)\n",
    "    y = poly + eps\n",
    "        \n",
    "    return x.reshape(-1,1), y"
   ]
  },
  {
   "cell_type": "code",
   "execution_count": 4,
   "id": "b6b70e21",
   "metadata": {},
   "outputs": [],
   "source": [
    "X, y = generate_syn_data_non_linear(n=250)"
   ]
  },
  {
   "cell_type": "code",
   "execution_count": 5,
   "id": "2ee8db69",
   "metadata": {},
   "outputs": [
    {
     "data": {
      "text/plain": [
       "Text(0, 0.5, '$y$')"
      ]
     },
     "execution_count": 5,
     "metadata": {},
     "output_type": "execute_result"
    },
    {
     "data": {
      "image/png": "[encoded data removed]",
      "text/plain": [
       "<Figure size 360x360 with 1 Axes>"
      ]
     },
     "metadata": {
      "needs_background": "light"
     },
     "output_type": "display_data"
    }
   ],
   "source": [
    "fig, ax = plt.subplots(figsize=(5,5))\n",
    "ax.plot(X[:,0], y, 'o')\n",
    "ax.set_xlabel('$x$')\n",
    "ax.set_ylabel('$y$')"
   ]
  },
  {
   "cell_type": "markdown",
   "id": "d82de1c4",
   "metadata": {},
   "source": [
    "# Simple Pipeline\n",
    "\n",
    "## Build a polynomial (non-linear) regressor\n",
    "For a training set $\\mathcal{D}:=\\{(x_i,y_i)\\}$, we look for a function of degree $k$, which we denote by $f^*(x; \\mathcal{D}, k)$, such that\n",
    "$$\n",
    "f^{*}_{k} := \\arg\\min_{f \\in \\mathcal{F}_k} \\sum_{i=1}^{n} \\lVert f(x_i) - y_i \\rVert_2^{2},\n",
    "$$\n",
    "where $ k \\in \\mathbb{N}^{+}$,\n",
    "$$\n",
    "\\mathcal{F}_k := \\big\\{f : f(x) = \\sum_{\\ell=0}^{k} a_\\ell x^{\\ell} \\big\\}.\n",
    "$$\n",
    "In our setting $k$ is a hyper-parameter to be determined.\n",
    "\n",
    "## Cross-validation (determining $k$)\n",
    "Let us partition the dataset into $K$ non-overlapping one:\n",
    "$$\n",
    "\\mathcal{D} = \\cup_{j=1}^{K} \\mathcal{D}_j, \\quad \\mathcal{D}_j \\cap \\mathcal{D}_{j'} = \\emptyset, \\forall j\\not=j'.\n",
    "$$\n",
    "In a $K$-folde cross-validation we fit the function on $K-1$-folds and compute its error on the remaining fold for a given polynomial degree $k$. That is we fit using $\\mathcal{D} \\setminus \\mathcal{D}_j$ and measure the error on $\\mathcal{D}_j$ for $j=1,\\dots,K$. Let us denote the avergae error on the test sets for a given polynomial degree by $e(k)$. We can compute $e(k)$ by\n",
    "$$\n",
    "e(k) := \\frac{1}{K} \\sum_{j=1}^{K} \\sum_{(x, y) \\in \\mathcal{D}_j} \n",
    "\\lVert f^*(x; \\mathcal{D}\\setminus \\mathcal{D}_j, k) - y \\rVert_2^2.\n",
    "$$\n",
    "Then the optimal polynomial degree $k$ is computed by finding the minimum error on the test set, i.e.,\n",
    "$$\n",
    "k^* := \\arg\\min_{j=1,\\dots, K} e(k)\n",
    "$$"
   ]
  },
  {
   "cell_type": "code",
   "execution_count": 6,
   "id": "770665be",
   "metadata": {},
   "outputs": [],
   "source": [
    "def get_simple_pipeline(estimator: str, scoring: str, \n",
    "                        n_folds: int = 10, n_jobs: int = 2, \n",
    "                        random_state = None, verbose: bool = True):\n",
    "\n",
    "    cv = KFold(n_splits=n_folds, shuffle=False, random_state=None)\n",
    "    \n",
    "    if estimator == 'linear_regression':\n",
    "        est = LinearRegression(n_jobs=n_jobs)\n",
    "        est_param_grid = {'fit_intercept': [True, False]}\n",
    "    elif estimator == 'ridge':\n",
    "        est = Ridge()\n",
    "        est_param_grid = {'alpha': np.arange(0.1, 10.0, 1.0), \n",
    "                          'fit_intercept': [True, False]}        \n",
    "    else:\n",
    "        raise ValueError('undefined estimator')\n",
    "    \n",
    "    \n",
    "    core_pipe = Pipeline(steps=[\n",
    "        ('poly_features', PolynomialFeatures()),\n",
    "        ('estimator', est)\n",
    "    ], verbose=verbose)\n",
    "    \n",
    "    est_params = {\n",
    "        '__'.join(['estimator', key]): val for (key, val) in est_param_grid.items()\n",
    "    }\n",
    "    param_grid = {\n",
    "        'poly_features__degree': [1, 2, 3, 6, 10, 20]\n",
    "    }\n",
    "    param_grid.update(est_params)\n",
    "    \n",
    "    \n",
    "    grid_search = GridSearchCV(estimator=core_pipe, scoring=scoring, \n",
    "                               param_grid=param_grid, n_jobs=n_jobs, refit=True, cv=cv, verbose=verbose)\n",
    "    \n",
    "    steps = [('grid_search', grid_search)]\n",
    "    \n",
    "    return Pipeline(steps=steps, verbose=verbose)"
   ]
  },
  {
   "cell_type": "markdown",
   "id": "e67706c4",
   "metadata": {},
   "source": [
    "# Settings"
   ]
  },
  {
   "cell_type": "code",
   "execution_count": 7,
   "id": "5915661f",
   "metadata": {},
   "outputs": [],
   "source": [
    "RANDOM_STATE = 102"
   ]
  },
  {
   "cell_type": "code",
   "execution_count": 8,
   "id": "ba7be069",
   "metadata": {},
   "outputs": [],
   "source": [
    "X_train, X_test, y_train, y_test = train_test_split(X, y, test_size=0.25, random_state=RANDOM_STATE)"
   ]
  },
  {
   "cell_type": "markdown",
   "id": "0b6c1340",
   "metadata": {},
   "source": [
    "# Run simple pipeline with linear regression as estimator"
   ]
  },
  {
   "cell_type": "code",
   "execution_count": 9,
   "id": "a962e63d",
   "metadata": {},
   "outputs": [],
   "source": [
    "pipe = get_simple_pipeline(estimator='linear_regression', \n",
    "                           scoring='neg_mean_squared_error', \n",
    "                           random_state=RANDOM_STATE)"
   ]
  },
  {
   "cell_type": "code",
   "execution_count": 10,
   "id": "f88d18dc",
   "metadata": {},
   "outputs": [
    {
     "data": {
      "text/plain": [
       "GridSearchCV(cv=KFold(n_splits=10, random_state=None, shuffle=False),\n",
       "             estimator=Pipeline(steps=[('poly_features', PolynomialFeatures()),\n",
       "                                       ('estimator',\n",
       "                                        LinearRegression(n_jobs=2))],\n",
       "                                verbose=True),\n",
       "             n_jobs=2,\n",
       "             param_grid={'estimator__fit_intercept': [True, False],\n",
       "                         'poly_features__degree': [1, 2, 3, 6, 10, 20]},\n",
       "             scoring='neg_mean_squared_error', verbose=True)"
      ]
     },
     "execution_count": 10,
     "metadata": {},
     "output_type": "execute_result"
    }
   ],
   "source": [
    "pipe.steps[0][1]"
   ]
  },
  {
   "cell_type": "code",
   "execution_count": 11,
   "id": "1f9ee5ce",
   "metadata": {},
   "outputs": [
    {
     "name": "stdout",
     "output_type": "stream",
     "text": [
      "Fitting 10 folds for each of 12 candidates, totalling 120 fits\n",
      "[Pipeline] ..... (step 1 of 2) Processing poly_features, total=   0.0s\n",
      "[Pipeline] ......... (step 2 of 2) Processing estimator, total=   0.0s\n",
      "[Pipeline] ....... (step 1 of 1) Processing grid_search, total=   1.0s\n"
     ]
    },
    {
     "data": {
      "text/plain": [
       "Pipeline(steps=[('grid_search',\n",
       "                 GridSearchCV(cv=KFold(n_splits=10, random_state=None, shuffle=False),\n",
       "                              estimator=Pipeline(steps=[('poly_features',\n",
       "                                                         PolynomialFeatures()),\n",
       "                                                        ('estimator',\n",
       "                                                         LinearRegression(n_jobs=2))],\n",
       "                                                 verbose=True),\n",
       "                              n_jobs=2,\n",
       "                              param_grid={'estimator__fit_intercept': [True,\n",
       "                                                                       False],\n",
       "                                          'poly_features__degree': [1, 2, 3, 6,\n",
       "                                                                    10, 20]},\n",
       "                              scoring='neg_mean_squared_error',\n",
       "                              verbose=True))],\n",
       "         verbose=True)"
      ]
     },
     "execution_count": 11,
     "metadata": {},
     "output_type": "execute_result"
    }
   ],
   "source": [
    "pipe.fit(X_train, y_train)"
   ]
  },
  {
   "cell_type": "markdown",
   "id": "7a5cf67c",
   "metadata": {},
   "source": [
    "# Best estimator should have polynomial degree 3"
   ]
  },
  {
   "cell_type": "code",
   "execution_count": 12,
   "id": "558fc865",
   "metadata": {},
   "outputs": [
    {
     "data": {
      "text/plain": [
       "{'estimator__fit_intercept': False, 'poly_features__degree': 3}"
      ]
     },
     "execution_count": 12,
     "metadata": {},
     "output_type": "execute_result"
    }
   ],
   "source": [
    "pipe.steps[0][1].best_params_"
   ]
  },
  {
   "cell_type": "code",
   "execution_count": 13,
   "id": "9adb4dd8",
   "metadata": {},
   "outputs": [
    {
     "data": {
      "text/plain": [
       "{'mean_fit_time': array([0.00167542, 0.00175986, 0.00150247, 0.00137963, 0.00125034,\n",
       "        0.00163143, 0.00145156, 0.00090725, 0.00126183, 0.00113299,\n",
       "        0.00108736, 0.00166709]),\n",
       " 'std_fit_time': array([0.00039381, 0.00065719, 0.00076996, 0.00014759, 0.00027199,\n",
       "        0.00051005, 0.0003466 , 0.00016164, 0.00026783, 0.0003126 ,\n",
       "        0.00020949, 0.00032648]),\n",
       " 'mean_score_time': array([0.00067284, 0.00078695, 0.00051832, 0.00066564, 0.00052722,\n",
       "        0.00066783, 0.00060015, 0.00041974, 0.00054681, 0.00049946,\n",
       "        0.00045233, 0.00070295]),\n",
       " 'std_score_time': array([1.68035698e-04, 3.11630723e-04, 4.95865939e-05, 1.84538643e-04,\n",
       "        1.72359882e-04, 1.91984478e-04, 1.30287706e-04, 7.92213852e-05,\n",
       "        1.27631736e-04, 1.34078666e-04, 3.84637672e-05, 1.72897669e-04]),\n",
       " 'param_estimator__fit_intercept': masked_array(data=[True, True, True, True, True, True, False, False,\n",
       "                    False, False, False, False],\n",
       "              mask=[False, False, False, False, False, False, False, False,\n",
       "                    False, False, False, False],\n",
       "        fill_value='?',\n",
       "             dtype=object),\n",
       " 'param_poly_features__degree': masked_array(data=[1, 2, 3, 6, 10, 20, 1, 2, 3, 6, 10, 20],\n",
       "              mask=[False, False, False, False, False, False, False, False,\n",
       "                    False, False, False, False],\n",
       "        fill_value='?',\n",
       "             dtype=object),\n",
       " 'params': [{'estimator__fit_intercept': True, 'poly_features__degree': 1},\n",
       "  {'estimator__fit_intercept': True, 'poly_features__degree': 2},\n",
       "  {'estimator__fit_intercept': True, 'poly_features__degree': 3},\n",
       "  {'estimator__fit_intercept': True, 'poly_features__degree': 6},\n",
       "  {'estimator__fit_intercept': True, 'poly_features__degree': 10},\n",
       "  {'estimator__fit_intercept': True, 'poly_features__degree': 20},\n",
       "  {'estimator__fit_intercept': False, 'poly_features__degree': 1},\n",
       "  {'estimator__fit_intercept': False, 'poly_features__degree': 2},\n",
       "  {'estimator__fit_intercept': False, 'poly_features__degree': 3},\n",
       "  {'estimator__fit_intercept': False, 'poly_features__degree': 6},\n",
       "  {'estimator__fit_intercept': False, 'poly_features__degree': 10},\n",
       "  {'estimator__fit_intercept': False, 'poly_features__degree': 20}],\n",
       " 'split0_test_score': array([-704.87471851, -609.72793143,  -69.28858334,  -74.13596109,\n",
       "         -78.74441645,  -95.59829682, -704.87471851, -609.72793143,\n",
       "         -69.28858334,  -74.13596109,  -78.74441645,  -95.65401257]),\n",
       " 'split1_test_score': array([-589.10730501, -345.8189304 ,  -76.45822237,  -79.28993683,\n",
       "         -83.67793981,  -76.5425555 , -589.10730501, -345.8189304 ,\n",
       "         -76.45822237,  -79.28993683,  -83.67793981,  -76.52092104]),\n",
       " 'split2_test_score': array([-929.74458365, -666.75354169,  -75.11848849,  -72.19382457,\n",
       "         -75.95903563,  -81.06293978, -929.74458365, -666.75354169,\n",
       "         -75.11848849,  -72.19382457,  -75.95903562,  -81.10390507]),\n",
       " 'split3_test_score': array([-374.62386755, -335.87434493,  -37.39452673,  -39.441202  ,\n",
       "         -36.36712229,  -48.2927027 , -374.62386755, -335.87434493,\n",
       "         -37.39452673,  -39.441202  ,  -36.36712229,  -48.31935956]),\n",
       " 'split4_test_score': array([-507.89960218, -450.34417006,  -44.84641122,  -45.53403757,\n",
       "         -45.31158655,  -47.68843156, -507.89960218, -450.34417006,\n",
       "         -44.84641122,  -45.53403757,  -45.31158655,  -47.70788166]),\n",
       " 'split5_test_score': array([-1145.17266252,  -678.3963602 ,   -87.82115076,   -88.58699103,\n",
       "          -90.45950542,   -63.8209469 , -1145.17266252,  -678.3963602 ,\n",
       "          -87.82115076,   -88.58699103,   -90.45950541,   -63.86127048]),\n",
       " 'split6_test_score': array([-610.32110185, -289.80585552, -114.3298049 , -117.45440792,\n",
       "        -118.07533327,  -99.74595234, -610.32110185, -289.80585552,\n",
       "        -114.3298049 , -117.45440792, -118.07533326,  -99.77292233]),\n",
       " 'split7_test_score': array([-683.41757365, -338.42466361,  -30.06355245,  -34.1252401 ,\n",
       "         -38.85123012,  -54.02733552, -683.41757365, -338.42466361,\n",
       "         -30.06355245,  -34.1252401 ,  -38.85123013,  -54.03217872]),\n",
       " 'split8_test_score': array([-230.085356  , -226.19244688,  -58.66453334,  -59.0878463 ,\n",
       "         -63.09269429,  -60.94049644, -230.085356  , -226.19244688,\n",
       "         -58.66453334,  -59.0878463 ,  -63.09269429,  -60.94910138]),\n",
       " 'split9_test_score': array([-1221.78630206,  -643.02637265,   -51.27804713,   -46.76880187,\n",
       "          -46.67125972,  -105.34624022, -1221.78630206,  -643.02637265,\n",
       "          -51.27804713,   -46.76880187,   -46.67125972,  -105.28521653]),\n",
       " 'mean_test_score': array([-699.7033073 , -458.43646174,  -64.52633207,  -65.66182493,\n",
       "         -67.72101235,  -73.30658978, -699.7033073 , -458.43646174,\n",
       "         -64.52633207,  -65.66182493,  -67.72101235,  -73.32067693]),\n",
       " 'std_test_score': array([301.23936252, 165.31393415,  24.12731308,  24.48592845,\n",
       "         25.05958345,  20.46876558, 301.23936252, 165.31393415,\n",
       "         24.12731308,  24.48592845,  25.05958345,  20.46146312]),\n",
       " 'rank_test_score': array([11,  9,  2,  3,  6,  7, 11,  9,  1,  4,  5,  8], dtype=int32)}"
      ]
     },
     "execution_count": 13,
     "metadata": {},
     "output_type": "execute_result"
    }
   ],
   "source": [
    "pipe.steps[0][1].cv_results_"
   ]
  },
  {
   "cell_type": "code",
   "execution_count": 14,
   "id": "a0f34b49",
   "metadata": {},
   "outputs": [],
   "source": [
    "y_pred = pipe.steps[0][1].best_estimator_.predict(X_test)"
   ]
  },
  {
   "cell_type": "code",
   "execution_count": 15,
   "id": "2b5e9cc0",
   "metadata": {},
   "outputs": [
    {
     "data": {
      "text/plain": [
       "Text(0.5, 0, '$x_0$')"
      ]
     },
     "execution_count": 15,
     "metadata": {},
     "output_type": "execute_result"
    },
    {
     "data": {
      "image/png": "[encoded data removed]",
      "text/plain": [
       "<Figure size 360x360 with 1 Axes>"
      ]
     },
     "metadata": {
      "needs_background": "light"
     },
     "output_type": "display_data"
    }
   ],
   "source": [
    "fig, ax = plt.subplots(figsize=(5,5))\n",
    "ax.scatter(X_test[:,0], y_pred, label='prediction', marker='o')\n",
    "ax.scatter(X_test[:,0], y_test, label='truth', marker='x', color='red')\n",
    "ax.set_ylabel('$y$')\n",
    "ax.set_xlabel('$x_0$')"
   ]
  },
  {
   "cell_type": "markdown",
   "id": "76f74394",
   "metadata": {},
   "source": [
    "# Run simple pipeline with Ridge as estimator (it has regularization)"
   ]
  },
  {
   "cell_type": "code",
   "execution_count": 16,
   "id": "a6dc6969",
   "metadata": {},
   "outputs": [],
   "source": [
    "pipe = get_simple_pipeline(estimator='ridge', \n",
    "                           scoring='neg_mean_squared_error', \n",
    "                           random_state=RANDOM_STATE)"
   ]
  },
  {
   "cell_type": "code",
   "execution_count": 17,
   "id": "91fdf413",
   "metadata": {},
   "outputs": [
    {
     "name": "stdout",
     "output_type": "stream",
     "text": [
      "Fitting 10 folds for each of 120 candidates, totalling 1200 fits\n",
      "[Pipeline] ..... (step 1 of 2) Processing poly_features, total=   0.0s\n",
      "[Pipeline] ......... (step 2 of 2) Processing estimator, total=   0.0s\n",
      "[Pipeline] ....... (step 1 of 1) Processing grid_search, total=   1.7s\n"
     ]
    },
    {
     "data": {
      "text/plain": [
       "Pipeline(steps=[('grid_search',\n",
       "                 GridSearchCV(cv=KFold(n_splits=10, random_state=None, shuffle=False),\n",
       "                              estimator=Pipeline(steps=[('poly_features',\n",
       "                                                         PolynomialFeatures()),\n",
       "                                                        ('estimator', Ridge())],\n",
       "                                                 verbose=True),\n",
       "                              n_jobs=2,\n",
       "                              param_grid={'estimator__alpha': array([0.1, 1.1, 2.1, 3.1, 4.1, 5.1, 6.1, 7.1, 8.1, 9.1]),\n",
       "                                          'estimator__fit_intercept': [True,\n",
       "                                                                       False],\n",
       "                                          'poly_features__degree': [1, 2, 3, 6,\n",
       "                                                                    10, 20]},\n",
       "                              scoring='neg_mean_squared_error',\n",
       "                              verbose=True))],\n",
       "         verbose=True)"
      ]
     },
     "execution_count": 17,
     "metadata": {},
     "output_type": "execute_result"
    }
   ],
   "source": [
    "pipe.fit(X_train, y_train)"
   ]
  },
  {
   "cell_type": "code",
   "execution_count": 18,
   "id": "3e3fdfd1",
   "metadata": {},
   "outputs": [
    {
     "data": {
      "text/plain": [
       "Pipeline(steps=[('poly_features', PolynomialFeatures(degree=3)),\n",
       "                ('estimator', Ridge(alpha=1.1, fit_intercept=False))],\n",
       "         verbose=True)"
      ]
     },
     "execution_count": 18,
     "metadata": {},
     "output_type": "execute_result"
    }
   ],
   "source": [
    "pipe.steps[0][1].best_estimator_"
   ]
  },
  {
   "cell_type": "code",
   "execution_count": 19,
   "id": "f754ffbd",
   "metadata": {},
   "outputs": [],
   "source": [
    "y_pred = pipe.steps[0][1].best_estimator_.predict(X_test)"
   ]
  },
  {
   "cell_type": "code",
   "execution_count": 20,
   "id": "c4907fc6",
   "metadata": {},
   "outputs": [
    {
     "data": {
      "text/plain": [
       "Text(0.5, 0, '$x_0$')"
      ]
     },
     "execution_count": 20,
     "metadata": {},
     "output_type": "execute_result"
    },
    {
     "data": {
      "image/png": "[encoded data removed]",
      "text/plain": [
       "<Figure size 360x360 with 1 Axes>"
      ]
     },
     "metadata": {
      "needs_background": "light"
     },
     "output_type": "display_data"
    }
   ],
   "source": [
    "fig, ax = plt.subplots(figsize=(5,5))\n",
    "ax.scatter(X_test[:,0], y_pred, label='prediction', marker='o')\n",
    "ax.scatter(X_test[:,0], y_test, label='truth', marker='x', color='red')\n",
    "ax.set_ylabel('$y$')\n",
    "ax.set_xlabel('$x_0$')"
   ]
  }
 ],
 "metadata": {
  "kernelspec": {
   "display_name": "fun-facts-examples",
   "language": "python",
   "name": "fun-facts-examples"
  },
  "language_info": {
   "codemirror_mode": {
    "name": "ipython",
    "version": 3
   },
   "file_extension": ".py",
   "mimetype": "text/x-python",
   "name": "python",
   "nbconvert_exporter": "python",
   "pygments_lexer": "ipython3",
   "version": "3.7.10"
  }
 },
 "nbformat": 4,
 "nbformat_minor": 5
}
